{
 "cells": [
  {
   "cell_type": "code",
   "execution_count": 23,
   "id": "b713f14d-017c-472f-9e85-58a56c9ed5c4",
   "metadata": {},
   "outputs": [],
   "source": [
    "import numpy as np\n",
    "import os"
   ]
  },
  {
   "cell_type": "code",
   "execution_count": null,
   "id": "0b5f56d1-7db5-4ffa-abb4-2391687512dd",
   "metadata": {},
   "outputs": [],
   "source": [
    "class carbon():\n",
    "    def __init__(self,coordinates):\n",
    "        self.coordinates=coordinates\n",
    "\n",
    "    def neighbours():\n",
    "        for k,v in coordinatesdt.items():\n",
    "            \n",
    "            \n",
    "              \n",
    "    "
   ]
  },
  {
   "cell_type": "code",
   "execution_count": 25,
   "id": "e7cae955-b1a1-48ca-9988-edab33604dc0",
   "metadata": {},
   "outputs": [],
   "source": [
    "for xyz in os.listdir('xyzfiles'): \n",
    "    if xyz.endswith('.xyz'):\n",
    "        with open(f'xyzfiles/{xyz}') as f:\n",
    "            coordinatesdt={}\n",
    "            for line in f.readlines()[2:]:\n",
    "                parts = line.split()\n",
    "                \n",
    "                scaler=np.random.normal(0,0.05,50)\n",
    "                \n",
    "                atom=parts[0]\n",
    "                coords=tuple([float(i) for i in parts[1:]])\n",
    "        \n",
    "                if atom not in coordinatesdt:\n",
    "                    coordinatesdt[atom] = []\n",
    "                \n",
    "                # Append the coordinates to the list\n",
    "                coordinatesdt[atom].append(coords)\n",
    "    q=0                         \n",
    "    for scale in scaler:\n",
    "    \n",
    "        new_coords_dt = {}\n",
    "    \n",
    "        for atom, coords_list in coordinatesdt.items():\n",
    "            new_coords_dt[atom] = []\n",
    "            \n",
    "            for coords in coords_list:\n",
    "               \n",
    "                new_coords = tuple((1 + scale) * coord for coord in coords)\n",
    "                new_coords_dt[atom].append(new_coords)\n",
    "        \n",
    "        file_name = f'scaled/{xyz}_scaled_{q}.xyz'\n",
    "        q+=1\n",
    "        with open(file_name,'w') as new:\n",
    "            \n",
    "            for k,v in new_coords_dt.items():\n",
    "                for coords in v:\n",
    "                    new.write(f'{k} {coords[0]} {coords[1]} {coords[2]} \\n')\n",
    "                \n",
    "\n"
   ]
  },
  {
   "cell_type": "code",
   "execution_count": null,
   "id": "0290d757-8b36-4eb0-a70b-8cfa1bbb318a",
   "metadata": {},
   "outputs": [],
   "source": []
  }
 ],
 "metadata": {
  "kernelspec": {
   "display_name": "Python 3 (ipykernel)",
   "language": "python",
   "name": "python3"
  },
  "language_info": {
   "codemirror_mode": {
    "name": "ipython",
    "version": 3
   },
   "file_extension": ".py",
   "mimetype": "text/x-python",
   "name": "python",
   "nbconvert_exporter": "python",
   "pygments_lexer": "ipython3",
   "version": "3.12.2"
  }
 },
 "nbformat": 4,
 "nbformat_minor": 5
}
