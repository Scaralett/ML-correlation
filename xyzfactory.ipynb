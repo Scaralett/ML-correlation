{
 "cells": [
  {
   "cell_type": "code",
   "execution_count": 2,
   "id": "b713f14d-017c-472f-9e85-58a56c9ed5c4",
   "metadata": {},
   "outputs": [],
   "source": [
    "import numpy as np\n",
    "import os"
   ]
  },
  {
   "cell_type": "code",
   "execution_count": 4,
   "id": "e7cae955-b1a1-48ca-9988-edab33604dc0",
   "metadata": {},
   "outputs": [
    {
     "name": "stdout",
     "output_type": "stream",
     "text": [
      "done\n"
     ]
    }
   ],
   "source": [
    "for xyz in os.listdir('alkenes'): \n",
    "    if xyz.endswith('.xyz'):\n",
    "        with open(f'alkenes/{xyz}') as f:\n",
    "            coordinatesdt={}\n",
    "            for line in f.readlines()[2:]:\n",
    "                parts = line.split()\n",
    "                \n",
    "                \n",
    "                \n",
    "                atom=parts[0]\n",
    "                coords=tuple([float(i) for i in parts[1:]])\n",
    "        \n",
    "                if atom not in coordinatesdt:\n",
    "                    coordinatesdt[atom] = []\n",
    "                \n",
    "                # Append the coordinates to the list\n",
    "                coordinatesdt[atom].append(coords)\n",
    "                            \n",
    "    for q in range(10):\n",
    "    \n",
    "        new_coords_dt = {}\n",
    "    \n",
    "        for atom, coords_list in coordinatesdt.items():\n",
    "            new_coords_dt[atom] = []\n",
    "            \n",
    "            for coords in coords_list:\n",
    "                scaler=np.random.normal(0,0.05,3)\n",
    "                x,y,z=coords[0]+scaler[0],coords[1]+scaler[1],coords[2]+scaler[2]\n",
    "                new_coords=(x,y,z)\n",
    "                new_coords_dt[atom].append(new_coords)\n",
    "        \n",
    "        file_name = f'scaledalkene/{xyz[:-4]}_scaled_{q}.xyz'\n",
    "        \n",
    "        with open(file_name,'w') as new:\n",
    "            atom_count = sum(len(coords) for coords in new_coords_dt.values())\n",
    "            new.write(f\"{atom_count}\\n\")\n",
    "            new.write(\"miaow\\n\")\n",
    "            for k,v in new_coords_dt.items():\n",
    "                for coords in v:\n",
    "                    new.write(f'{k} {coords[0]} {coords[1]} {coords[2]} \\n')\n",
    "                \n",
    "    \n",
    "print(\"done\")"
   ]
  },
  {
   "cell_type": "code",
   "execution_count": null,
   "id": "0290d757-8b36-4eb0-a70b-8cfa1bbb318a",
   "metadata": {},
   "outputs": [],
   "source": [
    "print(scaler)"
   ]
  },
  {
   "cell_type": "code",
   "execution_count": 1,
   "id": "e24e7d6e-0907-4e2c-b23e-8d7df5141174",
   "metadata": {},
   "outputs": [
    {
     "name": "stdout",
     "output_type": "stream",
     "text": [
      "25\n",
      "26\n",
      "27\n",
      "28\n",
      "29\n",
      "30\n",
      "31\n",
      "32\n",
      "33\n",
      "34\n",
      "35\n",
      "36\n",
      "37\n",
      "38\n",
      "39\n",
      "40\n",
      "41\n",
      "42\n",
      "43\n",
      "44\n",
      "45\n",
      "46\n",
      "47\n",
      "48\n",
      "49\n"
     ]
    }
   ],
   "source": [
    "for q in range(25,50):\n",
    "    print(q)"
   ]
  },
  {
   "cell_type": "code",
   "execution_count": null,
   "id": "a93ce215-7fec-44e4-b28f-7f4f72128879",
   "metadata": {},
   "outputs": [],
   "source": []
  }
 ],
 "metadata": {
  "kernelspec": {
   "display_name": "Python 3 (ipykernel)",
   "language": "python",
   "name": "python3"
  },
  "language_info": {
   "codemirror_mode": {
    "name": "ipython",
    "version": 3
   },
   "file_extension": ".py",
   "mimetype": "text/x-python",
   "name": "python",
   "nbconvert_exporter": "python",
   "pygments_lexer": "ipython3",
   "version": "3.12.2"
  }
 },
 "nbformat": 4,
 "nbformat_minor": 5
}
