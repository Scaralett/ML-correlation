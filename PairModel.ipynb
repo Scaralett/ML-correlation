{
 "cells": [
  {
   "cell_type": "code",
   "execution_count": 1,
   "id": "ae0ee76d-ddb8-41ec-9973-91fd624acf3f",
   "metadata": {},
   "outputs": [],
   "source": [
    "import pymolpro\n",
    "import random\n",
    "import numpy as np\n",
    "import pandas as pd\n",
    "import os\n",
    "import math\n",
    "import matplotlib as mpl\n",
    "import matplotlib.pyplot as plt\n",
    "#unused\n",
    "def chkorbid(o1,o2):\n",
    "    if o1.startswith('-'):\n",
    "        chko1=o1[1:]\n",
    "    else:\n",
    "        chko1=o1\n",
    "    if o2.startswith('-'):\n",
    "        chko2=o2[1:]\n",
    "    else:\n",
    "        chko2=o2\n",
    "    if chko1==chko2:\n",
    "        return True\n",
    "    else: \n",
    "        return False\n",
    "\n",
    "#builds n**3,n**3 array of distance reciprocals\n",
    "def distances(o1,o2):\n",
    "    big_arr=np.empty((0,n**3))\n",
    "    for i in range(len(grid_dt[o1])):\n",
    "        tmp_list=[]\n",
    "        for j in range(len(grid_dt[o2])):\n",
    "            #find the distance\n",
    "            o1x,o1y,o1z = grid_dt[o1][i]['x'], grid_dt[o1][i]['y'],grid_dt[o1][i]['z']\n",
    "            o2x,o2y,o2z = grid_dt[o2][j]['x'], grid_dt[o2][j]['y'],grid_dt[o2][j]['z']\n",
    "            r=math.sqrt((o1x-o2x)**2+(o1y-o2y)**2+(o1z-o2z)**2)\n",
    "            #correlation energy should scale like r^-6 so take the reciprocal, going to lead to problems at 0 so take an error function\n",
    "            if r==0:\n",
    "                w=1\n",
    "            else:   \n",
    "                w=(math.erf(a*r)/r)**6\n",
    "            tmp_list.append(float(w))\n",
    "        tmp_arr=np.array(tmp_list)\n",
    "        tmp_arr.reshape((1,len(tmp_list)))\n",
    "        big_arr=np.vstack((big_arr,tmp_arr))\n",
    "    \n",
    "    return big_arr\n",
    "\n",
    "def centdist(oid1,oid2):\n",
    "    if chkorbid(oid1,oid2)==True:\n",
    "        return 1\n",
    "    else:\n",
    "        r=(math.sqrt((cent_dt[oid1]['x']-cent_dt[oid2]['x'])**2+\n",
    "        ((cent_dt[oid1]['y']-cent_dt[oid2]['x'])**2)+\n",
    "        ((cent_dt[oid1]['z']-cent_dt[oid2]['z'])**2)))\n",
    "        if r==0:\n",
    "            return 1\n",
    "        else:\n",
    "            return (math.erf(r**2)/r)**2\n",
    "\n",
    "def orbitalsize(orbital):\n",
    "    return 1/math.sqrt(sum([orbital.local_second_moments[i][i] for i in range(3)]))**3\n",
    "\n",
    "\n",
    "#build the input array for the ML model\n",
    "def density_arrays(oid1,oid2):\n",
    "\n",
    "    \n",
    "    o1_addft=[float(v) for v in orbital_dt[oid1].values()]\n",
    "    o2_addft=[float(v) for v in orbital_dt[oid2].values()]\n",
    "\n",
    "    \n",
    "    tmp=[float(grid_dt[oid1][i]['d']) for i in range(len(grid_dt[oid1]))]\n",
    "    tmp=np.array(tmp)\n",
    "    tmp=np.reshape(tmp,(1,len(grid_dt[oid1])))\n",
    "    #need all the rows to have the same shape to stack so append 0s\n",
    "    while len(o1_addft)<n**3:\n",
    "        o1_addft.append(0)\n",
    "\n",
    "    #stack to get a (2,n**3) array\n",
    "    o1_addft=np.array(o1_addft)\n",
    "    o1_addft=np.reshape(o1_addft,(1,len(grid_dt[oid1])))\n",
    "    o1_arr=np.vstack((o1_addft,tmp))\n",
    "    \n",
    "    #do it all again\n",
    "    tmp=[grid_dt[oid2][i]['d'] for i in range(len(grid_dt[oid2]))]\n",
    "    tmp=np.array(tmp)\n",
    "    tmp=np.reshape(tmp,(1,len(grid_dt[oid2])))\n",
    "    \n",
    "    while len(o2_addft)<n**3:\n",
    "        o2_addft.append(0)\n",
    "    o2_addft=np.array(o2_addft)\n",
    "    o2_addft=np.reshape(o2_addft,(1,len(grid_dt[oid2])))\n",
    "    o2_arr=np.vstack((o2_addft,tmp))\n",
    "\n",
    "    #returns the (n**3+4,n**3) array of the distance array and the two array of features\n",
    "    return np.vstack((distances(oid1,oid2),o1_arr,o2_arr))\n",
    "    \n"
   ]
  },
  {
   "cell_type": "code",
   "execution_count": 2,
   "id": "b9a96cc5-cde3-4b0d-95f0-7e67331cc14a",
   "metadata": {
    "jupyter": {
     "source_hidden": true
    }
   },
   "outputs": [],
   "source": [
    "geo_dt={'c2h4':\n",
    "\"\"\"\n",
    "C       0.04632      0.04634      0.04646\n",
    "C       0.81955      0.81957      0.81969\n",
    "H       0.27329     -1.00259     -0.09726\n",
    "H      -0.82445      0.45146     -0.45360\n",
    "H       0.59258      1.86847      0.96342\n",
    "H       1.69029      0.41441      1.31974\n",
    "\"\"\",\n",
    "'c2h6':\n",
    "\"\"\"\n",
    "C       0.00000      0.00000      0.00000\n",
    "C       0.86603      0.86603      0.86603\n",
    "H      -0.63000     -0.63000      0.63000\n",
    "H      -0.63000      0.63000     -0.63000\n",
    "H       0.63000     -0.63000     -0.63000\n",
    "H       0.23098      1.50113      1.50113\n",
    "H       1.50113      1.50113      0.23098\n",
    "H       1.50113      0.23098      1.50113\n",
    "\"\"\",\n",
    "'ch4':\n",
    "\"\"\"\n",
    "C       0.00000      0.00000      0.00000\n",
    "H       0.63000      0.63000      0.63000\n",
    "H      -0.63000     -0.63000      0.63000\n",
    "H      -0.63000      0.63000     -0.63000\n",
    "H       0.63000     -0.63000     -0.63000\n",
    "\"\"\",\n",
    "'eth':\n",
    "\"\"\"\n",
    "C      -0.99938      0.05528     -0.19066\n",
    "H      -1.29704     -0.53094      0.68003\n",
    "H      -1.80029      0.75402     -0.46015\n",
    "H      -0.81007     -0.61059     -1.03427\n",
    "C       0.25224      0.81254      0.13010\n",
    "O       0.27383      2.00682      0.37623\n",
    "H       1.17169      0.20423      0.18495\n",
    "\"\"\",\n",
    "'hcn':\n",
    "\"\"\"\n",
    "C       0.09831      0.11533      0.10364\n",
    "N       0.78613      0.74869      0.78990\n",
    "H      -0.53370     -0.46664     -0.52692\n",
    "\"\"\",\n",
    "'B':\n",
    "\"\"\"\n",
    "B\n",
    "\"\"\",\n",
    "'ch4o':\n",
    "\"\"\"\n",
    "C       0.02713     -0.00068      0.02713\n",
    "O       0.84135      0.83418      0.84135\n",
    "H      -0.60477     -0.62455      0.66194\n",
    "H      -0.60572      0.63188     -0.60572\n",
    "H       0.66194     -0.62455     -0.60477\n",
    "H       1.39037      0.25299      1.39037\n",
    "\"\"\"\n",
    "        \n",
    "       }\n",
    "\n",
    "\n"
   ]
  },
  {
   "cell_type": "code",
   "execution_count": 4,
   "id": "73975d28-21d3-40eb-81e5-249dec4dc8c1",
   "metadata": {},
   "outputs": [
    {
     "name": "stdout",
     "output_type": "stream",
     "text": [
      "c2h4\n",
      "c2h6\n",
      "ch4\n",
      "eth\n",
      "hcn\n",
      "B\n",
      "ch4o\n",
      "[<pymolpro.project.Project object at 0x73d1c90ca6c0>, <pymolpro.project.Project object at 0x73d1cf5bec60>, <pymolpro.project.Project object at 0x73d1c90c9ee0>, <pymolpro.project.Project object at 0x73d1c90c9c10>, <pymolpro.project.Project object at 0x73d1c90cabd0>, <pymolpro.project.Project object at 0x73d1c90ca5d0>, <pymolpro.project.Project object at 0x73d1c90cae10>]\n"
     ]
    }
   ],
   "source": [
    "p_list=[]\n",
    "for k,v in geo_dt.items():\n",
    "    p=pymolpro.Project(name=f'{k}')\n",
    "    p.write_input(f\"\"\"\n",
    "    geometry={{{v}}}\n",
    "    basis, cc-pvtz\n",
    "    print orbital\n",
    "    rhf\n",
    "    locali, pipek\n",
    "    mp2\n",
    "    put, xml\n",
    "    \"\"\")\n",
    "    print(k)\n",
    "    p.run(wait=True)\n",
    "    p_list.append(p)\n",
    "print(p_list)"
   ]
  },
  {
   "cell_type": "code",
   "execution_count": 3,
   "id": "4fb30d7f-736b-40c5-ae4d-714ba1f2d945",
   "metadata": {},
   "outputs": [],
   "source": [
    "p_list=[]\n",
    "for xyz in os.listdir('/home/stuart/griddistance/xyzfiles'):\n",
    "    if xyz != '.ipynb_checkpoints':\n",
    "        p=pymolpro.Project(name=f'{xyz[:-4]}')\n",
    "        p_list.append(p)"
   ]
  },
  {
   "cell_type": "code",
   "execution_count": 4,
   "id": "69963589-596a-471a-9050-8881a78fabc4",
   "metadata": {
    "scrolled": true
   },
   "outputs": [],
   "source": [
    "#settings\n",
    "#grid dimensions\n",
    "n=4\n",
    "#alpha in the error function\n",
    "a=1\n",
    "\n",
    "size_list=[]\n",
    "corr_list=[]\n",
    "pair_list=[]\n",
    "dist_list=[]\n",
    "self_list=[]\n",
    "selflab_list=[]\n",
    "for p in p_list:\n",
    "    orbital_dt={}\n",
    "    grid_dt={}\n",
    "    cent_dt={}\n",
    "    dens_dt={}\n",
    "    for orbital in p.orbitals(minocc=1.00):\n",
    "        points=orbital.grid(n)\n",
    "        values=orbital.evaluate(points,values=True)\n",
    "        values=values**2\n",
    "        dens_dt.update({f'{orbital.ID}':values})\n",
    "        dens_dt.update({f'-{orbital.ID}':values})\n",
    "\n",
    "        if orbital.ID not in grid_dt:\n",
    "            grid_dt[orbital.ID] = {}\n",
    "            grid_dt[f'-{orbital.ID}']={}\n",
    "        grid_dt[orbital.ID].update({i:{'x':points[i][0],\n",
    "                                       'y':points[i][1],\n",
    "                                       'z':points[i][2],\n",
    "                                       'd':values[i]\n",
    "        }for i in range(len(points))})\n",
    "        orbital_dt.update({orbital.ID:{\n",
    "        'energy':float(p.xpath(\"//orbitals/orbital[@ID='\"+orbital.ID+\"']/@energy\")[0]),\n",
    "        'size':float(orbitalsize(orbital)),\n",
    "            'spin':1,\n",
    "            'ke':float(orbital.kinetic_energy)\n",
    "        }})\n",
    "        oid=f'-{orbital.ID}'\n",
    "        grid_dt[oid].update({i:{'x':points[i][0],\n",
    "                                       'y':points[i][1],\n",
    "                                       'z':points[i][2],\n",
    "                                       'd':values[i]\n",
    "        }for i in range(len(points))})\n",
    "        orbital_dt.update({oid:{\n",
    "        'energy':float(p.xpath(\"//orbitals/orbital[@ID='\"+orbital.ID+\"']/@energy\")[0]),\n",
    "        'size':float(orbitalsize(orbital)),\n",
    "            'spin':-1,\n",
    "            'ke':float(orbital.kinetic_energy)\n",
    "        }})\n",
    "        cent_dt.update({orbital.ID:{\n",
    "            'x':orbital.centroid[0],\n",
    "            'y':orbital.centroid[1],\n",
    "            'z':orbital.centroid[2]}})\n",
    "        cent_dt.update({f'-{orbital.ID}':{\n",
    "            'x':orbital.centroid[0],\n",
    "            'y':orbital.centroid[1],\n",
    "            'z':orbital.centroid[2]}})\n",
    "\n",
    "    for pair in p.xpath(\"//pair\"):\n",
    "        tmp=pymolpro.element_to_dict(pair)\n",
    "        oid1,oid2 = tmp['orbital1'],tmp['orbital2']\n",
    "        if chkorbid(oid1,oid2)==True:\n",
    "            tmp_arr=np.array([float(orbital_dt[oid1]['size']),float(orbital_dt[oid1]['ke']),float(orbital_dt[oid1]['energy'])])\n",
    "            self_arr=np.append(tmp_arr,dens_dt[oid1])\n",
    "            self_list.append(self_arr)\n",
    "            selflab_list.append(float(tmp['energy']))\n",
    "        else:\n",
    "            pair_list.append(density_arrays(oid1,oid2))\n",
    "            corr_list.append(float(tmp['energy']))\n",
    "\n",
    "            \n",
    "            \n",
    "            \n",
    "        \n",
    "\n",
    "pair_arr=np.stack(pair_list)\n",
    "self_arr=np.stack(self_list)\n",
    "self_lab_arr=np.array(selflab_list)\n"
   ]
  },
  {
   "cell_type": "code",
   "execution_count": 44,
   "id": "0ad5258b-40b2-4fdb-ad21-b96e6517595e",
   "metadata": {
    "collapsed": true,
    "jupyter": {
     "outputs_hidden": true
    }
   },
   "outputs": [
    {
     "name": "stdout",
     "output_type": "stream",
     "text": [
      "(352, 68, 64)\n",
      "(352,)\n"
     ]
    },
    {
     "data": {
      "text/html": [
       "<pre style=\"white-space:pre;overflow-x:auto;line-height:normal;font-family:Menlo,'DejaVu Sans Mono',consolas,'Courier New',monospace\"><span style=\"font-weight: bold\">Model: \"sequential_33\"</span>\n",
       "</pre>\n"
      ],
      "text/plain": [
       "\u001b[1mModel: \"sequential_33\"\u001b[0m\n"
      ]
     },
     "metadata": {},
     "output_type": "display_data"
    },
    {
     "data": {
      "text/html": [
       "<pre style=\"white-space:pre;overflow-x:auto;line-height:normal;font-family:Menlo,'DejaVu Sans Mono',consolas,'Courier New',monospace\">┏━━━━━━━━━━━━━━━━━━━━━━━━━━━━━━━━━┳━━━━━━━━━━━━━━━━━━━━━━━━┳━━━━━━━━━━━━━━━┓\n",
       "┃<span style=\"font-weight: bold\"> Layer (type)                    </span>┃<span style=\"font-weight: bold\"> Output Shape           </span>┃<span style=\"font-weight: bold\">       Param # </span>┃\n",
       "┡━━━━━━━━━━━━━━━━━━━━━━━━━━━━━━━━━╇━━━━━━━━━━━━━━━━━━━━━━━━╇━━━━━━━━━━━━━━━┩\n",
       "│ flatten_34 (<span style=\"color: #0087ff; text-decoration-color: #0087ff\">Flatten</span>)            │ (<span style=\"color: #00d7ff; text-decoration-color: #00d7ff\">None</span>, <span style=\"color: #00af00; text-decoration-color: #00af00\">4352</span>)           │             <span style=\"color: #00af00; text-decoration-color: #00af00\">0</span> │\n",
       "├─────────────────────────────────┼────────────────────────┼───────────────┤\n",
       "│ dense_92 (<span style=\"color: #0087ff; text-decoration-color: #0087ff\">Dense</span>)                │ (<span style=\"color: #00d7ff; text-decoration-color: #00d7ff\">None</span>, <span style=\"color: #00af00; text-decoration-color: #00af00\">2000</span>)           │     <span style=\"color: #00af00; text-decoration-color: #00af00\">8,706,000</span> │\n",
       "├─────────────────────────────────┼────────────────────────┼───────────────┤\n",
       "│ dense_93 (<span style=\"color: #0087ff; text-decoration-color: #0087ff\">Dense</span>)                │ (<span style=\"color: #00d7ff; text-decoration-color: #00d7ff\">None</span>, <span style=\"color: #00af00; text-decoration-color: #00af00\">1</span>)              │         <span style=\"color: #00af00; text-decoration-color: #00af00\">2,001</span> │\n",
       "└─────────────────────────────────┴────────────────────────┴───────────────┘\n",
       "</pre>\n"
      ],
      "text/plain": [
       "┏━━━━━━━━━━━━━━━━━━━━━━━━━━━━━━━━━┳━━━━━━━━━━━━━━━━━━━━━━━━┳━━━━━━━━━━━━━━━┓\n",
       "┃\u001b[1m \u001b[0m\u001b[1mLayer (type)                   \u001b[0m\u001b[1m \u001b[0m┃\u001b[1m \u001b[0m\u001b[1mOutput Shape          \u001b[0m\u001b[1m \u001b[0m┃\u001b[1m \u001b[0m\u001b[1m      Param #\u001b[0m\u001b[1m \u001b[0m┃\n",
       "┡━━━━━━━━━━━━━━━━━━━━━━━━━━━━━━━━━╇━━━━━━━━━━━━━━━━━━━━━━━━╇━━━━━━━━━━━━━━━┩\n",
       "│ flatten_34 (\u001b[38;5;33mFlatten\u001b[0m)            │ (\u001b[38;5;45mNone\u001b[0m, \u001b[38;5;34m4352\u001b[0m)           │             \u001b[38;5;34m0\u001b[0m │\n",
       "├─────────────────────────────────┼────────────────────────┼───────────────┤\n",
       "│ dense_92 (\u001b[38;5;33mDense\u001b[0m)                │ (\u001b[38;5;45mNone\u001b[0m, \u001b[38;5;34m2000\u001b[0m)           │     \u001b[38;5;34m8,706,000\u001b[0m │\n",
       "├─────────────────────────────────┼────────────────────────┼───────────────┤\n",
       "│ dense_93 (\u001b[38;5;33mDense\u001b[0m)                │ (\u001b[38;5;45mNone\u001b[0m, \u001b[38;5;34m1\u001b[0m)              │         \u001b[38;5;34m2,001\u001b[0m │\n",
       "└─────────────────────────────────┴────────────────────────┴───────────────┘\n"
      ]
     },
     "metadata": {},
     "output_type": "display_data"
    },
    {
     "data": {
      "text/html": [
       "<pre style=\"white-space:pre;overflow-x:auto;line-height:normal;font-family:Menlo,'DejaVu Sans Mono',consolas,'Courier New',monospace\"><span style=\"font-weight: bold\"> Total params: </span><span style=\"color: #00af00; text-decoration-color: #00af00\">8,708,001</span> (33.22 MB)\n",
       "</pre>\n"
      ],
      "text/plain": [
       "\u001b[1m Total params: \u001b[0m\u001b[38;5;34m8,708,001\u001b[0m (33.22 MB)\n"
      ]
     },
     "metadata": {},
     "output_type": "display_data"
    },
    {
     "data": {
      "text/html": [
       "<pre style=\"white-space:pre;overflow-x:auto;line-height:normal;font-family:Menlo,'DejaVu Sans Mono',consolas,'Courier New',monospace\"><span style=\"font-weight: bold\"> Trainable params: </span><span style=\"color: #00af00; text-decoration-color: #00af00\">8,708,001</span> (33.22 MB)\n",
       "</pre>\n"
      ],
      "text/plain": [
       "\u001b[1m Trainable params: \u001b[0m\u001b[38;5;34m8,708,001\u001b[0m (33.22 MB)\n"
      ]
     },
     "metadata": {},
     "output_type": "display_data"
    },
    {
     "data": {
      "text/html": [
       "<pre style=\"white-space:pre;overflow-x:auto;line-height:normal;font-family:Menlo,'DejaVu Sans Mono',consolas,'Courier New',monospace\"><span style=\"font-weight: bold\"> Non-trainable params: </span><span style=\"color: #00af00; text-decoration-color: #00af00\">0</span> (0.00 B)\n",
       "</pre>\n"
      ],
      "text/plain": [
       "\u001b[1m Non-trainable params: \u001b[0m\u001b[38;5;34m0\u001b[0m (0.00 B)\n"
      ]
     },
     "metadata": {},
     "output_type": "display_data"
    },
    {
     "name": "stdout",
     "output_type": "stream",
     "text": [
      "None\n",
      "Epoch 1/50\n",
      "\u001b[1m264/264\u001b[0m \u001b[32m━━━━━━━━━━━━━━━━━━━━\u001b[0m\u001b[37m\u001b[0m \u001b[1m1s\u001b[0m 1ms/step - loss: 5.9845e-06 - mean_absolute_error: 0.0027 - mean_squared_error: 1.1969e-05\n",
      "Epoch 2/50\n",
      "\u001b[1m264/264\u001b[0m \u001b[32m━━━━━━━━━━━━━━━━━━━━\u001b[0m\u001b[37m\u001b[0m \u001b[1m0s\u001b[0m 1ms/step - loss: 4.9272e-06 - mean_absolute_error: 0.0026 - mean_squared_error: 9.8543e-06\n",
      "Epoch 3/50\n",
      "\u001b[1m264/264\u001b[0m \u001b[32m━━━━━━━━━━━━━━━━━━━━\u001b[0m\u001b[37m\u001b[0m \u001b[1m0s\u001b[0m 1ms/step - loss: 6.9944e-06 - mean_absolute_error: 0.0028 - mean_squared_error: 1.3989e-05\n",
      "Epoch 4/50\n",
      "\u001b[1m264/264\u001b[0m \u001b[32m━━━━━━━━━━━━━━━━━━━━\u001b[0m\u001b[37m\u001b[0m \u001b[1m0s\u001b[0m 1ms/step - loss: 4.6718e-06 - mean_absolute_error: 0.0025 - mean_squared_error: 9.3435e-06\n",
      "Epoch 5/50\n",
      "\u001b[1m264/264\u001b[0m \u001b[32m━━━━━━━━━━━━━━━━━━━━\u001b[0m\u001b[37m\u001b[0m \u001b[1m0s\u001b[0m 1ms/step - loss: 4.0218e-06 - mean_absolute_error: 0.0023 - mean_squared_error: 8.0435e-06\n",
      "Epoch 6/50\n",
      "\u001b[1m264/264\u001b[0m \u001b[32m━━━━━━━━━━━━━━━━━━━━\u001b[0m\u001b[37m\u001b[0m \u001b[1m0s\u001b[0m 1ms/step - loss: 3.9622e-06 - mean_absolute_error: 0.0022 - mean_squared_error: 7.9244e-06\n",
      "Epoch 7/50\n",
      "\u001b[1m264/264\u001b[0m \u001b[32m━━━━━━━━━━━━━━━━━━━━\u001b[0m\u001b[37m\u001b[0m \u001b[1m0s\u001b[0m 1ms/step - loss: 3.7697e-06 - mean_absolute_error: 0.0022 - mean_squared_error: 7.5393e-06\n",
      "Epoch 8/50\n",
      "\u001b[1m264/264\u001b[0m \u001b[32m━━━━━━━━━━━━━━━━━━━━\u001b[0m\u001b[37m\u001b[0m \u001b[1m0s\u001b[0m 1ms/step - loss: 5.7063e-06 - mean_absolute_error: 0.0028 - mean_squared_error: 1.1413e-05\n",
      "Epoch 9/50\n",
      "\u001b[1m264/264\u001b[0m \u001b[32m━━━━━━━━━━━━━━━━━━━━\u001b[0m\u001b[37m\u001b[0m \u001b[1m0s\u001b[0m 1ms/step - loss: 3.7779e-06 - mean_absolute_error: 0.0023 - mean_squared_error: 7.5558e-06\n",
      "Epoch 10/50\n",
      "\u001b[1m264/264\u001b[0m \u001b[32m━━━━━━━━━━━━━━━━━━━━\u001b[0m\u001b[37m\u001b[0m \u001b[1m0s\u001b[0m 1ms/step - loss: 3.7947e-06 - mean_absolute_error: 0.0022 - mean_squared_error: 7.5893e-06\n",
      "Epoch 11/50\n",
      "\u001b[1m264/264\u001b[0m \u001b[32m━━━━━━━━━━━━━━━━━━━━\u001b[0m\u001b[37m\u001b[0m \u001b[1m0s\u001b[0m 1ms/step - loss: 4.5393e-06 - mean_absolute_error: 0.0024 - mean_squared_error: 9.0786e-06\n",
      "Epoch 12/50\n",
      "\u001b[1m264/264\u001b[0m \u001b[32m━━━━━━━━━━━━━━━━━━━━\u001b[0m\u001b[37m\u001b[0m \u001b[1m0s\u001b[0m 1ms/step - loss: 4.7274e-06 - mean_absolute_error: 0.0025 - mean_squared_error: 9.4548e-06\n",
      "Epoch 13/50\n",
      "\u001b[1m264/264\u001b[0m \u001b[32m━━━━━━━━━━━━━━━━━━━━\u001b[0m\u001b[37m\u001b[0m \u001b[1m0s\u001b[0m 1ms/step - loss: 3.8469e-06 - mean_absolute_error: 0.0022 - mean_squared_error: 7.6938e-06\n",
      "Epoch 14/50\n",
      "\u001b[1m264/264\u001b[0m \u001b[32m━━━━━━━━━━━━━━━━━━━━\u001b[0m\u001b[37m\u001b[0m \u001b[1m0s\u001b[0m 1ms/step - loss: 4.4885e-06 - mean_absolute_error: 0.0025 - mean_squared_error: 8.9771e-06\n",
      "Epoch 15/50\n",
      "\u001b[1m264/264\u001b[0m \u001b[32m━━━━━━━━━━━━━━━━━━━━\u001b[0m\u001b[37m\u001b[0m \u001b[1m0s\u001b[0m 1ms/step - loss: 4.9060e-06 - mean_absolute_error: 0.0025 - mean_squared_error: 9.8120e-06\n",
      "Epoch 16/50\n",
      "\u001b[1m264/264\u001b[0m \u001b[32m━━━━━━━━━━━━━━━━━━━━\u001b[0m\u001b[37m\u001b[0m \u001b[1m0s\u001b[0m 1ms/step - loss: 4.0675e-06 - mean_absolute_error: 0.0023 - mean_squared_error: 8.1350e-06\n",
      "Epoch 17/50\n",
      "\u001b[1m264/264\u001b[0m \u001b[32m━━━━━━━━━━━━━━━━━━━━\u001b[0m\u001b[37m\u001b[0m \u001b[1m0s\u001b[0m 1ms/step - loss: 3.8473e-06 - mean_absolute_error: 0.0023 - mean_squared_error: 7.6946e-06\n",
      "Epoch 18/50\n",
      "\u001b[1m264/264\u001b[0m \u001b[32m━━━━━━━━━━━━━━━━━━━━\u001b[0m\u001b[37m\u001b[0m \u001b[1m0s\u001b[0m 1ms/step - loss: 3.7886e-06 - mean_absolute_error: 0.0022 - mean_squared_error: 7.5771e-06\n",
      "Epoch 19/50\n",
      "\u001b[1m264/264\u001b[0m \u001b[32m━━━━━━━━━━━━━━━━━━━━\u001b[0m\u001b[37m\u001b[0m \u001b[1m0s\u001b[0m 1ms/step - loss: 3.9841e-06 - mean_absolute_error: 0.0023 - mean_squared_error: 7.9681e-06\n",
      "Epoch 20/50\n",
      "\u001b[1m264/264\u001b[0m \u001b[32m━━━━━━━━━━━━━━━━━━━━\u001b[0m\u001b[37m\u001b[0m \u001b[1m0s\u001b[0m 1ms/step - loss: 3.7657e-06 - mean_absolute_error: 0.0022 - mean_squared_error: 7.5314e-06\n",
      "Epoch 21/50\n",
      "\u001b[1m264/264\u001b[0m \u001b[32m━━━━━━━━━━━━━━━━━━━━\u001b[0m\u001b[37m\u001b[0m \u001b[1m0s\u001b[0m 1ms/step - loss: 4.1965e-06 - mean_absolute_error: 0.0024 - mean_squared_error: 8.3930e-06\n",
      "Epoch 22/50\n",
      "\u001b[1m264/264\u001b[0m \u001b[32m━━━━━━━━━━━━━━━━━━━━\u001b[0m\u001b[37m\u001b[0m \u001b[1m0s\u001b[0m 1ms/step - loss: 4.1924e-06 - mean_absolute_error: 0.0023 - mean_squared_error: 8.3848e-06\n",
      "Epoch 23/50\n",
      "\u001b[1m264/264\u001b[0m \u001b[32m━━━━━━━━━━━━━━━━━━━━\u001b[0m\u001b[37m\u001b[0m \u001b[1m0s\u001b[0m 1ms/step - loss: 4.3089e-06 - mean_absolute_error: 0.0023 - mean_squared_error: 8.6179e-06\n",
      "Epoch 24/50\n",
      "\u001b[1m264/264\u001b[0m \u001b[32m━━━━━━━━━━━━━━━━━━━━\u001b[0m\u001b[37m\u001b[0m \u001b[1m0s\u001b[0m 1ms/step - loss: 4.7138e-06 - mean_absolute_error: 0.0024 - mean_squared_error: 9.4275e-06\n",
      "Epoch 25/50\n",
      "\u001b[1m264/264\u001b[0m \u001b[32m━━━━━━━━━━━━━━━━━━━━\u001b[0m\u001b[37m\u001b[0m \u001b[1m0s\u001b[0m 1ms/step - loss: 3.7380e-06 - mean_absolute_error: 0.0022 - mean_squared_error: 7.4760e-06\n",
      "Epoch 26/50\n",
      "\u001b[1m264/264\u001b[0m \u001b[32m━━━━━━━━━━━━━━━━━━━━\u001b[0m\u001b[37m\u001b[0m \u001b[1m0s\u001b[0m 1ms/step - loss: 3.9660e-06 - mean_absolute_error: 0.0022 - mean_squared_error: 7.9319e-06\n",
      "Epoch 27/50\n",
      "\u001b[1m264/264\u001b[0m \u001b[32m━━━━━━━━━━━━━━━━━━━━\u001b[0m\u001b[37m\u001b[0m \u001b[1m0s\u001b[0m 1ms/step - loss: 3.5471e-06 - mean_absolute_error: 0.0022 - mean_squared_error: 7.0943e-06\n",
      "Epoch 28/50\n",
      "\u001b[1m264/264\u001b[0m \u001b[32m━━━━━━━━━━━━━━━━━━━━\u001b[0m\u001b[37m\u001b[0m \u001b[1m0s\u001b[0m 1ms/step - loss: 3.6217e-06 - mean_absolute_error: 0.0022 - mean_squared_error: 7.2433e-06\n",
      "Epoch 29/50\n",
      "\u001b[1m264/264\u001b[0m \u001b[32m━━━━━━━━━━━━━━━━━━━━\u001b[0m\u001b[37m\u001b[0m \u001b[1m0s\u001b[0m 1ms/step - loss: 4.0019e-06 - mean_absolute_error: 0.0023 - mean_squared_error: 8.0038e-06\n",
      "Epoch 30/50\n",
      "\u001b[1m264/264\u001b[0m \u001b[32m━━━━━━━━━━━━━━━━━━━━\u001b[0m\u001b[37m\u001b[0m \u001b[1m0s\u001b[0m 1ms/step - loss: 4.0730e-06 - mean_absolute_error: 0.0023 - mean_squared_error: 8.1461e-06\n",
      "Epoch 31/50\n",
      "\u001b[1m264/264\u001b[0m \u001b[32m━━━━━━━━━━━━━━━━━━━━\u001b[0m\u001b[37m\u001b[0m \u001b[1m0s\u001b[0m 1ms/step - loss: 3.9884e-06 - mean_absolute_error: 0.0023 - mean_squared_error: 7.9768e-06\n",
      "Epoch 32/50\n",
      "\u001b[1m264/264\u001b[0m \u001b[32m━━━━━━━━━━━━━━━━━━━━\u001b[0m\u001b[37m\u001b[0m \u001b[1m0s\u001b[0m 1ms/step - loss: 4.0492e-06 - mean_absolute_error: 0.0023 - mean_squared_error: 8.0984e-06\n",
      "Epoch 33/50\n",
      "\u001b[1m264/264\u001b[0m \u001b[32m━━━━━━━━━━━━━━━━━━━━\u001b[0m\u001b[37m\u001b[0m \u001b[1m0s\u001b[0m 1ms/step - loss: 3.8840e-06 - mean_absolute_error: 0.0023 - mean_squared_error: 7.7679e-06\n",
      "Epoch 34/50\n",
      "\u001b[1m264/264\u001b[0m \u001b[32m━━━━━━━━━━━━━━━━━━━━\u001b[0m\u001b[37m\u001b[0m \u001b[1m0s\u001b[0m 1ms/step - loss: 4.5218e-06 - mean_absolute_error: 0.0025 - mean_squared_error: 9.0436e-06\n",
      "Epoch 35/50\n",
      "\u001b[1m264/264\u001b[0m \u001b[32m━━━━━━━━━━━━━━━━━━━━\u001b[0m\u001b[37m\u001b[0m \u001b[1m0s\u001b[0m 1ms/step - loss: 3.6340e-06 - mean_absolute_error: 0.0021 - mean_squared_error: 7.2680e-06\n",
      "Epoch 36/50\n",
      "\u001b[1m264/264\u001b[0m \u001b[32m━━━━━━━━━━━━━━━━━━━━\u001b[0m\u001b[37m\u001b[0m \u001b[1m0s\u001b[0m 1ms/step - loss: 4.2590e-06 - mean_absolute_error: 0.0023 - mean_squared_error: 8.5181e-06\n",
      "Epoch 37/50\n",
      "\u001b[1m264/264\u001b[0m \u001b[32m━━━━━━━━━━━━━━━━━━━━\u001b[0m\u001b[37m\u001b[0m \u001b[1m0s\u001b[0m 1ms/step - loss: 3.8698e-06 - mean_absolute_error: 0.0022 - mean_squared_error: 7.7397e-06\n",
      "Epoch 38/50\n",
      "\u001b[1m264/264\u001b[0m \u001b[32m━━━━━━━━━━━━━━━━━━━━\u001b[0m\u001b[37m\u001b[0m \u001b[1m0s\u001b[0m 1ms/step - loss: 3.4228e-06 - mean_absolute_error: 0.0021 - mean_squared_error: 6.8455e-06\n",
      "Epoch 39/50\n",
      "\u001b[1m264/264\u001b[0m \u001b[32m━━━━━━━━━━━━━━━━━━━━\u001b[0m\u001b[37m\u001b[0m \u001b[1m0s\u001b[0m 1ms/step - loss: 3.6664e-06 - mean_absolute_error: 0.0022 - mean_squared_error: 7.3328e-06\n",
      "Epoch 40/50\n",
      "\u001b[1m264/264\u001b[0m \u001b[32m━━━━━━━━━━━━━━━━━━━━\u001b[0m\u001b[37m\u001b[0m \u001b[1m0s\u001b[0m 1ms/step - loss: 3.9748e-06 - mean_absolute_error: 0.0023 - mean_squared_error: 7.9496e-06\n",
      "Epoch 41/50\n",
      "\u001b[1m264/264\u001b[0m \u001b[32m━━━━━━━━━━━━━━━━━━━━\u001b[0m\u001b[37m\u001b[0m \u001b[1m0s\u001b[0m 1ms/step - loss: 3.5461e-06 - mean_absolute_error: 0.0022 - mean_squared_error: 7.0922e-06\n",
      "Epoch 42/50\n",
      "\u001b[1m264/264\u001b[0m \u001b[32m━━━━━━━━━━━━━━━━━━━━\u001b[0m\u001b[37m\u001b[0m \u001b[1m0s\u001b[0m 1ms/step - loss: 3.4744e-06 - mean_absolute_error: 0.0021 - mean_squared_error: 6.9487e-06\n",
      "Epoch 43/50\n",
      "\u001b[1m264/264\u001b[0m \u001b[32m━━━━━━━━━━━━━━━━━━━━\u001b[0m\u001b[37m\u001b[0m \u001b[1m0s\u001b[0m 1ms/step - loss: 4.6884e-06 - mean_absolute_error: 0.0024 - mean_squared_error: 9.3768e-06\n",
      "Epoch 44/50\n",
      "\u001b[1m264/264\u001b[0m \u001b[32m━━━━━━━━━━━━━━━━━━━━\u001b[0m\u001b[37m\u001b[0m \u001b[1m0s\u001b[0m 1ms/step - loss: 3.5466e-06 - mean_absolute_error: 0.0023 - mean_squared_error: 7.0932e-06\n",
      "Epoch 45/50\n",
      "\u001b[1m264/264\u001b[0m \u001b[32m━━━━━━━━━━━━━━━━━━━━\u001b[0m\u001b[37m\u001b[0m \u001b[1m0s\u001b[0m 1ms/step - loss: 4.3448e-06 - mean_absolute_error: 0.0023 - mean_squared_error: 8.6896e-06\n",
      "Epoch 46/50\n",
      "\u001b[1m264/264\u001b[0m \u001b[32m━━━━━━━━━━━━━━━━━━━━\u001b[0m\u001b[37m\u001b[0m \u001b[1m0s\u001b[0m 1ms/step - loss: 3.4663e-06 - mean_absolute_error: 0.0021 - mean_squared_error: 6.9327e-06\n",
      "Epoch 47/50\n",
      "\u001b[1m264/264\u001b[0m \u001b[32m━━━━━━━━━━━━━━━━━━━━\u001b[0m\u001b[37m\u001b[0m \u001b[1m0s\u001b[0m 1ms/step - loss: 3.6717e-06 - mean_absolute_error: 0.0022 - mean_squared_error: 7.3433e-06\n",
      "Epoch 48/50\n",
      "\u001b[1m264/264\u001b[0m \u001b[32m━━━━━━━━━━━━━━━━━━━━\u001b[0m\u001b[37m\u001b[0m \u001b[1m0s\u001b[0m 1ms/step - loss: 3.9465e-06 - mean_absolute_error: 0.0022 - mean_squared_error: 7.8930e-06\n",
      "Epoch 49/50\n",
      "\u001b[1m264/264\u001b[0m \u001b[32m━━━━━━━━━━━━━━━━━━━━\u001b[0m\u001b[37m\u001b[0m \u001b[1m0s\u001b[0m 1ms/step - loss: 3.8849e-06 - mean_absolute_error: 0.0023 - mean_squared_error: 7.7698e-06\n",
      "Epoch 50/50\n",
      "\u001b[1m264/264\u001b[0m \u001b[32m━━━━━━━━━━━━━━━━━━━━\u001b[0m\u001b[37m\u001b[0m \u001b[1m0s\u001b[0m 1ms/step - loss: 4.3615e-06 - mean_absolute_error: 0.0024 - mean_squared_error: 8.7231e-06\n",
      "\u001b[1m88/88\u001b[0m \u001b[32m━━━━━━━━━━━━━━━━━━━━\u001b[0m\u001b[37m\u001b[0m \u001b[1m0s\u001b[0m 906us/step - loss: 4.5221e-06 - mean_absolute_error: 0.0022 - mean_squared_error: 9.0442e-06   \n",
      "\u001b[1m88/88\u001b[0m \u001b[32m━━━━━━━━━━━━━━━━━━━━\u001b[0m\u001b[37m\u001b[0m \u001b[1m0s\u001b[0m 608us/step\n"
     ]
    },
    {
     "data": {
      "image/png": "[encoded data removed]",
      "text/plain": [
       "<Figure size 640x480 with 1 Axes>"
      ]
     },
     "metadata": {},
     "output_type": "display_data"
    },
    {
     "data": {
      "text/plain": [
       "<Figure size 640x480 with 0 Axes>"
      ]
     },
     "metadata": {},
     "output_type": "display_data"
    }
   ],
   "source": [
    "import tensorflow as tf\n",
    "import keras\n",
    "\n",
    "#settings\n",
    "\n",
    "#test set size\n",
    "test_ratio=0.25\n",
    "\n",
    "#batch size\n",
    "batch_size =1\n",
    "\n",
    "\n",
    "\n",
    "train_ratio=1-test_ratio\n",
    "train_size=int(train_ratio*len(corr_list))\n",
    "\n",
    "features=pair_arr\n",
    "print(features.shape)\n",
    "labels=np.array(corr_list)\n",
    "print(labels.shape)\n",
    "\n",
    "\n",
    "dataset=tf.data.Dataset.from_tensor_slices((features,labels))\n",
    "dataset = dataset.shuffle(buffer_size=len(corr_list)//4)\n",
    "\n",
    "train_dataset = dataset.take(train_size)\n",
    "test_dataset = dataset.skip(train_size)\n",
    "train_dataset = train_dataset.batch(batch_size)\n",
    "test_dataset = test_dataset.batch(batch_size)\n",
    "\n",
    "\n",
    "inp_shape=(n**3+4,n**3)\n",
    "model = keras.Sequential([\n",
    "    keras.layers.Flatten(input_shape=inp_shape),\n",
    "    keras.layers.Dense(2000, activation='softmax'),\n",
    "    keras.layers.Dense(1,)  \n",
    "])\n",
    "print(model.summary())\n",
    "model.compile(optimizer=tf.keras.optimizers.Adam(learning_rate=0.001),\n",
    "              loss='huber',\n",
    "              metrics=['mean_absolute_error', 'mean_squared_error'])\n",
    "model.fit(train_dataset,epochs=50)\n",
    "model.evaluate(test_dataset)\n",
    "\n",
    "model.save('new.keras')\n",
    "\n",
    "predictions = model.predict(test_dataset)\n",
    "\n",
    "\n",
    "import matplotlib as mpl\n",
    "import matplotlib.pyplot as plt\n",
    "\n",
    "test_labels = []\n",
    "for features, labels in test_dataset:\n",
    "    test_labels.append(labels.numpy())\n",
    "error=sum([abs((predictions[i]-test_labels[i])/test_labels[i])for i in range(len(predictions))])\n",
    "\n",
    "test_labels = np.concatenate(test_labels, axis=0)\n",
    "plt.scatter(test_labels, predictions, c='blue')\n",
    "plt.plot([min(test_labels), max(test_labels)], [min(test_labels), max(test_labels)], color='red', linestyle='--')  # Line for y=x\n",
    "plt.xlabel('True Labels')\n",
    "plt.ylabel('Predicted Labels')\n",
    "plt.title('True vs Predicted Labels')\n",
    "plt.show()\n",
    "plt.savefig('useless.png')"
   ]
  },
  {
   "cell_type": "code",
   "execution_count": null,
   "id": "3a5476ca-d747-45f0-b0bd-f46f6b86185d",
   "metadata": {},
   "outputs": [],
   "source": [
    "print(predictions)"
   ]
  },
  {
   "cell_type": "code",
   "execution_count": null,
   "id": "3d2969de-f118-4ca8-86ac-71a3238c3a39",
   "metadata": {},
   "outputs": [],
   "source": [
    "\"\"\"\n",
    "import keras_tuner\n",
    "import keras\n",
    "from keras.layers import Dense, InputLayer\n",
    "\n",
    "def build_model(hp):\n",
    " \n",
    "  model = keras.Sequential()\n",
    "  model.add(InputLayer(shape=inp_shape))\n",
    "  model.add(keras.layers.Dense(units,activation=acti\n",
    "        )\n",
    "    )\n",
    "  model.add(keras.layers.Dense(1, activation='relu'))\n",
    "  model.compile( optimizer='adam',\n",
    "        loss='mse',\n",
    "        metrics=['mae'])\n",
    "  return model\n",
    "    \n",
    "tuner = keras_tuner.RandomSearch(\n",
    "    build_model,\n",
    "    objective='val_loss',\n",
    "    max_trials=10,\n",
    "    directory=\"/tmp/tb\")\n",
    "    \n",
    "tuner.search(train_dataset, epochs=50, validation_data=test_dataset)\n",
    "best_model = tuner.get_best_models()[0]\n",
    "\"\"\""
   ]
  },
  {
   "cell_type": "code",
   "execution_count": 19,
   "id": "3f373b8d",
   "metadata": {},
   "outputs": [
    {
     "ename": "NameError",
     "evalue": "name 'X' is not defined",
     "output_type": "error",
     "traceback": [
      "\u001b[0;31m---------------------------------------------------------------------------\u001b[0m",
      "\u001b[0;31mNameError\u001b[0m                                 Traceback (most recent call last)",
      "Cell \u001b[0;32mIn[19], line 35\u001b[0m\n\u001b[1;32m     33\u001b[0m \u001b[38;5;28;01mfor\u001b[39;00m i \u001b[38;5;129;01min\u001b[39;00m \u001b[38;5;28mrange\u001b[39m(n_clusters):\n\u001b[1;32m     34\u001b[0m     mask \u001b[38;5;241m=\u001b[39m clusters \u001b[38;5;241m==\u001b[39m i\n\u001b[0;32m---> 35\u001b[0m     X_cluster, y_cluster \u001b[38;5;241m=\u001b[39m X[mask], y[mask]\n\u001b[1;32m     36\u001b[0m     model \u001b[38;5;241m=\u001b[39m create_model()\n\u001b[1;32m     37\u001b[0m     model\u001b[38;5;241m.\u001b[39mfit(X_cluster, y_cluster, epochs\u001b[38;5;241m=\u001b[39m\u001b[38;5;241m100\u001b[39m, verbose\u001b[38;5;241m=\u001b[39m\u001b[38;5;241m0\u001b[39m)\n",
      "\u001b[0;31mNameError\u001b[0m: name 'X' is not defined"
     ]
    }
   ],
   "source": [
    "n_clusters = 3  \n",
    "\n",
    "def kmeans(X, n_clusters, num_iterations=100):\n",
    "    centroids = tf.random.uniform([n_clusters, tf.shape(dist_list)[1]])\n",
    "    for q in range(num_iterations):\n",
    "        distances = tf.reduce_sum(tf.square(tf.expand_dims(dist_list, axis=1) - centroids), axis=2)\n",
    "        assignments = tf.argmin(distances, axis=1)\n",
    "        new_centroids = tf.zeros_like(centroids)\n",
    "        for i in range(n_clusters):\n",
    "            mask = tf.cast(assignments == i, tf.float32)\n",
    "            sum_points = tf.reduce_sum(tf.expand_dims(mask, axis=1) * X, axis=0)\n",
    "            count = tf.reduce_sum(mask)\n",
    "            new_centroids = tf.tensor_scatter_nd_update(new_centroids, [[i]], [sum_points / count])\n",
    "        centroids = new_centroids \n"
   ]
  },
  {
   "cell_type": "code",
   "execution_count": 62,
   "id": "3f1be1e5",
   "metadata": {},
   "outputs": [
    {
     "name": "stdout",
     "output_type": "stream",
     "text": [
      "[[ 1.00000000e+00 -4.13039000e-03]\n",
      " [ 1.00000000e+00 -4.13039000e-03]\n",
      " [ 4.44250204e-01 -6.27030000e-04]\n",
      " ...\n",
      " [ 4.21069212e-01 -6.42776000e-03]\n",
      " [ 1.00000000e+00 -7.21726000e-03]\n",
      " [ 1.00000000e+00 -7.21726000e-03]]\n"
     ]
    },
    {
     "data": {
      "image/png": "[encoded data removed]",
      "text/plain": [
       "<Figure size 640x480 with 1 Axes>"
      ]
     },
     "metadata": {},
     "output_type": "display_data"
    }
   ],
   "source": [
    "from sklearn.cluster import KMeans\n",
    "from sklearn.preprocessing import StandardScaler\n",
    "\n",
    "\n",
    "\n",
    "data = np.array(list(zip(dist_list, corr_list)))\n",
    "\n",
    "data_scaled = StandardScaler().fit_transform(data)\n",
    "print(data)\n",
    "inertias = []\n",
    "\n",
    "for i in range(1,11):\n",
    "    kmeans = KMeans(n_clusters=i)\n",
    "    kmeans.fit(data_scaled)\n",
    "    inertias.append(kmeans.inertia_)\n",
    "\n",
    "plt.plot(range(1,11), inertias, marker='o')\n",
    "plt.title('Elbow method')\n",
    "plt.xlabel('Number of clusters')\n",
    "plt.ylabel('Inertia')\n",
    "plt.show() "
   ]
  },
  {
   "cell_type": "code",
   "execution_count": 67,
   "id": "6928b2ff",
   "metadata": {},
   "outputs": [
    {
     "name": "stdout",
     "output_type": "stream",
     "text": [
      "Silhouette Score for 3 clusters: 0.5521925642720209\n"
     ]
    },
    {
     "data": {
      "image/png": "[encoded data removed]",
      "text/plain": [
       "<Figure size 640x480 with 1 Axes>"
      ]
     },
     "metadata": {},
     "output_type": "display_data"
    }
   ],
   "source": [
    "from sklearn.metrics import silhouette_score\n",
    "kmeans = KMeans(n_clusters=3, random_state=0).fit(data_scaled)\n",
    "\n",
    "score = silhouette_score(data_scaled, kmeans.labels_)\n",
    "print(f'Silhouette Score for 3 clusters: {score}')\n",
    "\n",
    "\n",
    "labels = kmeans.labels_\n",
    "plt.scatter(data_scaled[:, 0], data_scaled[: ,1], c=labels, cmap='viridis')\n",
    "plt.scatter(kmeans.cluster_centers_[:, 0], kmeans.cluster_centers_[:, 1], s=300, c='red', marker='x')\n",
    "plt.title(f'KMeans Clustering with 3 Clusters')\n",
    "plt.show()"
   ]
  },
  {
   "cell_type": "code",
   "execution_count": null,
   "id": "db5aafd9",
   "metadata": {},
   "outputs": [],
   "source": [
    "\n",
    "cluster_data = {i: [] for i in range(3)}\n",
    "cluster_targets = {i: [] for i in range(3)}\n",
    "\n",
    "\n",
    "for i in range(len(data)):\n",
    "    cluster_data[labels[i]].append(data_scaled[i])\n",
    "    cluster_targets[labels[i]].append(target[i])\n",
    "\n",
    "\n",
    "for key in cluster_data.keys():\n",
    "    cluster_data[key] = np.array(cluster_data[key])\n",
    "    cluster_targets[key] = np.array(cluster_targets[key])\n"
   ]
  },
  {
   "cell_type": "code",
   "execution_count": 5,
   "id": "e1f1d5c8-dd82-480a-a928-ac63c7615fe1",
   "metadata": {},
   "outputs": [
    {
     "name": "stderr",
     "output_type": "stream",
     "text": [
      "2024-08-05 13:21:45.889579: E external/local_xla/xla/stream_executor/cuda/cuda_fft.cc:485] Unable to register cuFFT factory: Attempting to register factory for plugin cuFFT when one has already been registered\n",
      "2024-08-05 13:21:46.469116: E external/local_xla/xla/stream_executor/cuda/cuda_dnn.cc:8454] Unable to register cuDNN factory: Attempting to register factory for plugin cuDNN when one has already been registered\n",
      "2024-08-05 13:21:46.607240: E external/local_xla/xla/stream_executor/cuda/cuda_blas.cc:1452] Unable to register cuBLAS factory: Attempting to register factory for plugin cuBLAS when one has already been registered\n",
      "2024-08-05 13:21:47.603357: I tensorflow/core/platform/cpu_feature_guard.cc:210] This TensorFlow binary is optimized to use available CPU instructions in performance-critical operations.\n",
      "To enable the following instructions: AVX2 FMA, in other operations, rebuild TensorFlow with the appropriate compiler flags.\n",
      "2024-08-05 13:21:52.839542: W tensorflow/compiler/tf2tensorrt/utils/py_utils.cc:38] TF-TRT Warning: Could not find TensorRT\n"
     ]
    },
    {
     "name": "stdout",
     "output_type": "stream",
     "text": [
      "(62, 67) (62,)\n"
     ]
    },
    {
     "name": "stderr",
     "output_type": "stream",
     "text": [
      "WARNING: All log messages before absl::InitializeLog() is called are written to STDERR\n",
      "I0000 00:00:1722860515.767907    4887 cuda_executor.cc:1015] successful NUMA node read from SysFS had negative value (-1), but there must be at least one NUMA node, so returning NUMA node zero. See more at https://github.com/torvalds/linux/blob/v6.0/Documentation/ABI/testing/sysfs-bus-pci#L344-L355\n",
      "I0000 00:00:1722860517.652894    4887 cuda_executor.cc:1015] successful NUMA node read from SysFS had negative value (-1), but there must be at least one NUMA node, so returning NUMA node zero. See more at https://github.com/torvalds/linux/blob/v6.0/Documentation/ABI/testing/sysfs-bus-pci#L344-L355\n",
      "I0000 00:00:1722860517.656856    4887 cuda_executor.cc:1015] successful NUMA node read from SysFS had negative value (-1), but there must be at least one NUMA node, so returning NUMA node zero. See more at https://github.com/torvalds/linux/blob/v6.0/Documentation/ABI/testing/sysfs-bus-pci#L344-L355\n",
      "I0000 00:00:1722860517.704817    4887 cuda_executor.cc:1015] successful NUMA node read from SysFS had negative value (-1), but there must be at least one NUMA node, so returning NUMA node zero. See more at https://github.com/torvalds/linux/blob/v6.0/Documentation/ABI/testing/sysfs-bus-pci#L344-L355\n",
      "I0000 00:00:1722860517.708487    4887 cuda_executor.cc:1015] successful NUMA node read from SysFS had negative value (-1), but there must be at least one NUMA node, so returning NUMA node zero. See more at https://github.com/torvalds/linux/blob/v6.0/Documentation/ABI/testing/sysfs-bus-pci#L344-L355\n",
      "I0000 00:00:1722860517.711354    4887 cuda_executor.cc:1015] successful NUMA node read from SysFS had negative value (-1), but there must be at least one NUMA node, so returning NUMA node zero. See more at https://github.com/torvalds/linux/blob/v6.0/Documentation/ABI/testing/sysfs-bus-pci#L344-L355\n",
      "I0000 00:00:1722860518.031466    4887 cuda_executor.cc:1015] successful NUMA node read from SysFS had negative value (-1), but there must be at least one NUMA node, so returning NUMA node zero. See more at https://github.com/torvalds/linux/blob/v6.0/Documentation/ABI/testing/sysfs-bus-pci#L344-L355\n",
      "I0000 00:00:1722860518.032882    4887 cuda_executor.cc:1015] successful NUMA node read from SysFS had negative value (-1), but there must be at least one NUMA node, so returning NUMA node zero. See more at https://github.com/torvalds/linux/blob/v6.0/Documentation/ABI/testing/sysfs-bus-pci#L344-L355\n",
      "I0000 00:00:1722860518.034191    4887 cuda_executor.cc:1015] successful NUMA node read from SysFS had negative value (-1), but there must be at least one NUMA node, so returning NUMA node zero. See more at https://github.com/torvalds/linux/blob/v6.0/Documentation/ABI/testing/sysfs-bus-pci#L344-L355\n",
      "2024-08-05 13:21:58.058915: I tensorflow/core/common_runtime/gpu/gpu_device.cc:2021] Created device /job:localhost/replica:0/task:0/device:GPU:0 with 6343 MB memory:  -> device: 0, name: NVIDIA GeForce RTX 2070, pci bus id: 0000:08:00.0, compute capability: 7.5\n"
     ]
    }
   ],
   "source": [
    "import tensorflow as tf\n",
    "import keras\n",
    "train_ratio=1-0.2\n",
    "train_size=int(train_ratio*len(selflab_list))\n",
    "\n",
    "\n",
    "\n",
    "#self_lab_arr=np.reshape(self_lab_arr,(-1,1))\n",
    "#self_arr=np.reshape(self_arr,(1,-1))\n",
    "\n",
    "\n",
    "print(self_arr.shape,self_lab_arr.shape)\n",
    "\n",
    "self_dataset=tf.data.Dataset.from_tensor_slices((self_arr,self_lab_arr))\n",
    "\n",
    "\n",
    "self_dataset = self_dataset.shuffle(buffer_size=len(selflab_list)//4)\n",
    "\n",
    "strain_dataset = self_dataset.take(train_size)\n",
    "stest_dataset = self_dataset.skip(train_size)\n",
    "strain_dataset = strain_dataset.batch(1)\n",
    "stest_dataset = stest_dataset.batch(1)\n"
   ]
  },
  {
   "cell_type": "code",
   "execution_count": 6,
   "id": "7937cdd6-ca8c-433c-92d9-419e00d3c9d5",
   "metadata": {},
   "outputs": [
    {
     "name": "stderr",
     "output_type": "stream",
     "text": [
      "/home/stuart/miniconda3/lib/python3.12/site-packages/keras/src/layers/reshaping/flatten.py:37: UserWarning: Do not pass an `input_shape`/`input_dim` argument to a layer. When using Sequential models, prefer using an `Input(shape)` object as the first layer in the model instead.\n",
      "  super().__init__(**kwargs)\n"
     ]
    },
    {
     "name": "stdout",
     "output_type": "stream",
     "text": [
      "Epoch 1/50\n"
     ]
    },
    {
     "name": "stderr",
     "output_type": "stream",
     "text": [
      "WARNING: All log messages before absl::InitializeLog() is called are written to STDERR\n",
      "I0000 00:00:1722860519.395360    5018 service.cc:146] XLA service 0x77075c005600 initialized for platform CUDA (this does not guarantee that XLA will be used). Devices:\n",
      "I0000 00:00:1722860519.395405    5018 service.cc:154]   StreamExecutor device (0): NVIDIA GeForce RTX 2070, Compute Capability 7.5\n",
      "2024-08-05 13:21:59.777237: I tensorflow/compiler/mlir/tensorflow/utils/dump_mlir_util.cc:268] disabling MLIR crash reproducer, set env var `MLIR_CRASH_REPRODUCER_DIRECTORY` to enable.\n",
      "2024-08-05 13:22:00.720123: I external/local_xla/xla/stream_executor/cuda/cuda_dnn.cc:531] Loaded cuDNN version 8907\n"
     ]
    },
    {
     "name": "stdout",
     "output_type": "stream",
     "text": [
      "\u001b[1m49/49\u001b[0m \u001b[32m━━━━━━━━━━━━━━━━━━━━\u001b[0m\u001b[37m\u001b[0m \u001b[1m4s\u001b[0m 2ms/step - loss: 0.0074 \n",
      "Epoch 2/50\n",
      "\u001b[1m49/49\u001b[0m \u001b[32m━━━━━━━━━━━━━━━━━━━━\u001b[0m\u001b[37m\u001b[0m \u001b[1m0s\u001b[0m 524us/step - loss: 0.0017\n",
      "Epoch 3/50\n",
      "\u001b[1m49/49\u001b[0m \u001b[32m━━━━━━━━━━━━━━━━━━━━\u001b[0m\u001b[37m\u001b[0m \u001b[1m0s\u001b[0m 488us/step - loss: 1.5245e-04\n",
      "Epoch 4/50\n",
      "\u001b[1m49/49\u001b[0m \u001b[32m━━━━━━━━━━━━━━━━━━━━\u001b[0m\u001b[37m\u001b[0m \u001b[1m0s\u001b[0m 483us/step - loss: 2.2910e-04\n"
     ]
    },
    {
     "name": "stderr",
     "output_type": "stream",
     "text": [
      "I0000 00:00:1722860522.466113    5018 device_compiler.h:188] Compiled cluster using XLA!  This line is logged at most once for the lifetime of the process.\n"
     ]
    },
    {
     "name": "stdout",
     "output_type": "stream",
     "text": [
      "Epoch 5/50\n",
      "\u001b[1m49/49\u001b[0m \u001b[32m━━━━━━━━━━━━━━━━━━━━\u001b[0m\u001b[37m\u001b[0m \u001b[1m0s\u001b[0m 485us/step - loss: 2.3758e-05\n",
      "Epoch 6/50\n",
      "\u001b[1m49/49\u001b[0m \u001b[32m━━━━━━━━━━━━━━━━━━━━\u001b[0m\u001b[37m\u001b[0m \u001b[1m0s\u001b[0m 479us/step - loss: 1.5667e-04\n",
      "Epoch 7/50\n",
      "\u001b[1m49/49\u001b[0m \u001b[32m━━━━━━━━━━━━━━━━━━━━\u001b[0m\u001b[37m\u001b[0m \u001b[1m0s\u001b[0m 505us/step - loss: 3.9243e-04\n",
      "Epoch 8/50\n",
      "\u001b[1m49/49\u001b[0m \u001b[32m━━━━━━━━━━━━━━━━━━━━\u001b[0m\u001b[37m\u001b[0m \u001b[1m0s\u001b[0m 544us/step - loss: 2.5491e-04\n",
      "Epoch 9/50\n",
      "\u001b[1m49/49\u001b[0m \u001b[32m━━━━━━━━━━━━━━━━━━━━\u001b[0m\u001b[37m\u001b[0m \u001b[1m0s\u001b[0m 520us/step - loss: 1.2328e-04\n",
      "Epoch 10/50\n",
      "\u001b[1m49/49\u001b[0m \u001b[32m━━━━━━━━━━━━━━━━━━━━\u001b[0m\u001b[37m\u001b[0m \u001b[1m0s\u001b[0m 509us/step - loss: 4.5632e-05\n",
      "Epoch 11/50\n",
      "\u001b[1m49/49\u001b[0m \u001b[32m━━━━━━━━━━━━━━━━━━━━\u001b[0m\u001b[37m\u001b[0m \u001b[1m0s\u001b[0m 491us/step - loss: 7.0482e-05\n",
      "Epoch 12/50\n",
      "\u001b[1m49/49\u001b[0m \u001b[32m━━━━━━━━━━━━━━━━━━━━\u001b[0m\u001b[37m\u001b[0m \u001b[1m0s\u001b[0m 491us/step - loss: 2.8220e-05\n",
      "Epoch 13/50\n",
      "\u001b[1m49/49\u001b[0m \u001b[32m━━━━━━━━━━━━━━━━━━━━\u001b[0m\u001b[37m\u001b[0m \u001b[1m0s\u001b[0m 531us/step - loss: 2.9898e-05\n",
      "Epoch 14/50\n",
      "\u001b[1m49/49\u001b[0m \u001b[32m━━━━━━━━━━━━━━━━━━━━\u001b[0m\u001b[37m\u001b[0m \u001b[1m0s\u001b[0m 520us/step - loss: 2.6519e-05\n",
      "Epoch 15/50\n",
      "\u001b[1m49/49\u001b[0m \u001b[32m━━━━━━━━━━━━━━━━━━━━\u001b[0m\u001b[37m\u001b[0m \u001b[1m0s\u001b[0m 531us/step - loss: 2.1828e-04\n",
      "Epoch 16/50\n",
      "\u001b[1m49/49\u001b[0m \u001b[32m━━━━━━━━━━━━━━━━━━━━\u001b[0m\u001b[37m\u001b[0m \u001b[1m0s\u001b[0m 482us/step - loss: 1.6116e-04\n",
      "Epoch 17/50\n",
      "\u001b[1m49/49\u001b[0m \u001b[32m━━━━━━━━━━━━━━━━━━━━\u001b[0m\u001b[37m\u001b[0m \u001b[1m0s\u001b[0m 484us/step - loss: 4.5941e-04\n",
      "Epoch 18/50\n",
      "\u001b[1m49/49\u001b[0m \u001b[32m━━━━━━━━━━━━━━━━━━━━\u001b[0m\u001b[37m\u001b[0m \u001b[1m0s\u001b[0m 493us/step - loss: 1.4449e-04\n",
      "Epoch 19/50\n",
      "\u001b[1m49/49\u001b[0m \u001b[32m━━━━━━━━━━━━━━━━━━━━\u001b[0m\u001b[37m\u001b[0m \u001b[1m0s\u001b[0m 473us/step - loss: 4.5158e-04\n",
      "Epoch 20/50\n",
      "\u001b[1m49/49\u001b[0m \u001b[32m━━━━━━━━━━━━━━━━━━━━\u001b[0m\u001b[37m\u001b[0m \u001b[1m0s\u001b[0m 500us/step - loss: 3.3441e-05\n",
      "Epoch 21/50\n",
      "\u001b[1m49/49\u001b[0m \u001b[32m━━━━━━━━━━━━━━━━━━━━\u001b[0m\u001b[37m\u001b[0m \u001b[1m0s\u001b[0m 492us/step - loss: 1.0062e-05\n",
      "Epoch 22/50\n",
      "\u001b[1m49/49\u001b[0m \u001b[32m━━━━━━━━━━━━━━━━━━━━\u001b[0m\u001b[37m\u001b[0m \u001b[1m0s\u001b[0m 492us/step - loss: 1.0256e-05\n",
      "Epoch 23/50\n",
      "\u001b[1m49/49\u001b[0m \u001b[32m━━━━━━━━━━━━━━━━━━━━\u001b[0m\u001b[37m\u001b[0m \u001b[1m0s\u001b[0m 472us/step - loss: 1.4663e-05\n",
      "Epoch 24/50\n",
      "\u001b[1m49/49\u001b[0m \u001b[32m━━━━━━━━━━━━━━━━━━━━\u001b[0m\u001b[37m\u001b[0m \u001b[1m0s\u001b[0m 572us/step - loss: 1.2406e-05\n",
      "Epoch 25/50\n",
      "\u001b[1m49/49\u001b[0m \u001b[32m━━━━━━━━━━━━━━━━━━━━\u001b[0m\u001b[37m\u001b[0m \u001b[1m0s\u001b[0m 546us/step - loss: 5.5085e-06\n",
      "Epoch 26/50\n",
      "\u001b[1m49/49\u001b[0m \u001b[32m━━━━━━━━━━━━━━━━━━━━\u001b[0m\u001b[37m\u001b[0m \u001b[1m0s\u001b[0m 517us/step - loss: 9.4650e-06\n",
      "Epoch 27/50\n",
      "\u001b[1m49/49\u001b[0m \u001b[32m━━━━━━━━━━━━━━━━━━━━\u001b[0m\u001b[37m\u001b[0m \u001b[1m0s\u001b[0m 514us/step - loss: 8.7128e-06\n",
      "Epoch 28/50\n",
      "\u001b[1m49/49\u001b[0m \u001b[32m━━━━━━━━━━━━━━━━━━━━\u001b[0m\u001b[37m\u001b[0m \u001b[1m0s\u001b[0m 555us/step - loss: 6.3716e-06\n",
      "Epoch 29/50\n",
      "\u001b[1m49/49\u001b[0m \u001b[32m━━━━━━━━━━━━━━━━━━━━\u001b[0m\u001b[37m\u001b[0m \u001b[1m0s\u001b[0m 534us/step - loss: 4.4111e-06\n",
      "Epoch 30/50\n",
      "\u001b[1m49/49\u001b[0m \u001b[32m━━━━━━━━━━━━━━━━━━━━\u001b[0m\u001b[37m\u001b[0m \u001b[1m0s\u001b[0m 502us/step - loss: 8.8050e-06\n",
      "Epoch 31/50\n",
      "\u001b[1m49/49\u001b[0m \u001b[32m━━━━━━━━━━━━━━━━━━━━\u001b[0m\u001b[37m\u001b[0m \u001b[1m0s\u001b[0m 522us/step - loss: 1.1045e-05\n",
      "Epoch 32/50\n",
      "\u001b[1m49/49\u001b[0m \u001b[32m━━━━━━━━━━━━━━━━━━━━\u001b[0m\u001b[37m\u001b[0m \u001b[1m0s\u001b[0m 526us/step - loss: 5.5711e-06\n",
      "Epoch 33/50\n",
      "\u001b[1m49/49\u001b[0m \u001b[32m━━━━━━━━━━━━━━━━━━━━\u001b[0m\u001b[37m\u001b[0m \u001b[1m0s\u001b[0m 510us/step - loss: 1.1633e-05\n",
      "Epoch 34/50\n",
      "\u001b[1m49/49\u001b[0m \u001b[32m━━━━━━━━━━━━━━━━━━━━\u001b[0m\u001b[37m\u001b[0m \u001b[1m0s\u001b[0m 535us/step - loss: 9.6538e-06\n",
      "Epoch 35/50\n",
      "\u001b[1m49/49\u001b[0m \u001b[32m━━━━━━━━━━━━━━━━━━━━\u001b[0m\u001b[37m\u001b[0m \u001b[1m0s\u001b[0m 507us/step - loss: 6.8552e-06\n",
      "Epoch 36/50\n",
      "\u001b[1m49/49\u001b[0m \u001b[32m━━━━━━━━━━━━━━━━━━━━\u001b[0m\u001b[37m\u001b[0m \u001b[1m0s\u001b[0m 529us/step - loss: 1.3216e-05\n",
      "Epoch 37/50\n",
      "\u001b[1m49/49\u001b[0m \u001b[32m━━━━━━━━━━━━━━━━━━━━\u001b[0m\u001b[37m\u001b[0m \u001b[1m0s\u001b[0m 535us/step - loss: 8.0896e-06\n",
      "Epoch 38/50\n",
      "\u001b[1m49/49\u001b[0m \u001b[32m━━━━━━━━━━━━━━━━━━━━\u001b[0m\u001b[37m\u001b[0m \u001b[1m0s\u001b[0m 557us/step - loss: 1.1621e-05\n",
      "Epoch 39/50\n",
      "\u001b[1m49/49\u001b[0m \u001b[32m━━━━━━━━━━━━━━━━━━━━\u001b[0m\u001b[37m\u001b[0m \u001b[1m0s\u001b[0m 516us/step - loss: 2.2341e-05\n",
      "Epoch 40/50\n",
      "\u001b[1m49/49\u001b[0m \u001b[32m━━━━━━━━━━━━━━━━━━━━\u001b[0m\u001b[37m\u001b[0m \u001b[1m0s\u001b[0m 484us/step - loss: 1.8333e-05\n",
      "Epoch 41/50\n",
      "\u001b[1m49/49\u001b[0m \u001b[32m━━━━━━━━━━━━━━━━━━━━\u001b[0m\u001b[37m\u001b[0m \u001b[1m0s\u001b[0m 494us/step - loss: 1.7902e-05\n",
      "Epoch 42/50\n",
      "\u001b[1m49/49\u001b[0m \u001b[32m━━━━━━━━━━━━━━━━━━━━\u001b[0m\u001b[37m\u001b[0m \u001b[1m0s\u001b[0m 490us/step - loss: 2.5134e-05\n",
      "Epoch 43/50\n",
      "\u001b[1m49/49\u001b[0m \u001b[32m━━━━━━━━━━━━━━━━━━━━\u001b[0m\u001b[37m\u001b[0m \u001b[1m0s\u001b[0m 487us/step - loss: 2.4322e-05\n",
      "Epoch 44/50\n",
      "\u001b[1m49/49\u001b[0m \u001b[32m━━━━━━━━━━━━━━━━━━━━\u001b[0m\u001b[37m\u001b[0m \u001b[1m0s\u001b[0m 510us/step - loss: 1.0922e-05\n",
      "Epoch 45/50\n",
      "\u001b[1m49/49\u001b[0m \u001b[32m━━━━━━━━━━━━━━━━━━━━\u001b[0m\u001b[37m\u001b[0m \u001b[1m0s\u001b[0m 485us/step - loss: 7.0677e-06\n",
      "Epoch 46/50\n",
      "\u001b[1m49/49\u001b[0m \u001b[32m━━━━━━━━━━━━━━━━━━━━\u001b[0m\u001b[37m\u001b[0m \u001b[1m0s\u001b[0m 498us/step - loss: 6.6333e-06\n",
      "Epoch 47/50\n",
      "\u001b[1m49/49\u001b[0m \u001b[32m━━━━━━━━━━━━━━━━━━━━\u001b[0m\u001b[37m\u001b[0m \u001b[1m0s\u001b[0m 513us/step - loss: 9.0326e-06\n",
      "Epoch 48/50\n",
      "\u001b[1m49/49\u001b[0m \u001b[32m━━━━━━━━━━━━━━━━━━━━\u001b[0m\u001b[37m\u001b[0m \u001b[1m0s\u001b[0m 505us/step - loss: 7.4973e-06\n",
      "Epoch 49/50\n",
      "\u001b[1m49/49\u001b[0m \u001b[32m━━━━━━━━━━━━━━━━━━━━\u001b[0m\u001b[37m\u001b[0m \u001b[1m0s\u001b[0m 508us/step - loss: 5.0792e-05\n",
      "Epoch 50/50\n",
      "\u001b[1m49/49\u001b[0m \u001b[32m━━━━━━━━━━━━━━━━━━━━\u001b[0m\u001b[37m\u001b[0m \u001b[1m0s\u001b[0m 503us/step - loss: 3.3232e-05\n",
      "\u001b[1m13/13\u001b[0m \u001b[32m━━━━━━━━━━━━━━━━━━━━\u001b[0m\u001b[37m\u001b[0m \u001b[1m0s\u001b[0m 807us/step - loss: 6.7728e-05\n",
      "\u001b[1m13/13\u001b[0m \u001b[32m━━━━━━━━━━━━━━━━━━━━\u001b[0m\u001b[37m\u001b[0m \u001b[1m0s\u001b[0m 938us/step\n",
      "[7.75556617]\n"
     ]
    },
    {
     "name": "stderr",
     "output_type": "stream",
     "text": [
      "2024-08-05 13:22:04.332388: I tensorflow/core/framework/local_rendezvous.cc:404] Local rendezvous is aborting with status: OUT_OF_RANGE: End of sequence\n"
     ]
    },
    {
     "data": {
      "image/png": "[encoded data removed]",
      "text/plain": [
       "<Figure size 640x480 with 1 Axes>"
      ]
     },
     "metadata": {},
     "output_type": "display_data"
    },
    {
     "data": {
      "text/plain": [
       "<Figure size 640x480 with 0 Axes>"
      ]
     },
     "metadata": {},
     "output_type": "display_data"
    }
   ],
   "source": [
    "\n",
    "\n",
    "\n",
    "self_model = keras.Sequential([\n",
    "    keras.layers.Flatten(input_shape=(67,)),\n",
    "    keras.layers.Dense(200, activation='relu'),\n",
    "    keras.layers.Dense(200,activation='relu'),\n",
    "    keras.layers.Dense(1,)  \n",
    "])\n",
    "\n",
    "self_model.compile(optimizer='adam',\n",
    "                   loss='mse')\n",
    "self_model.fit(strain_dataset,epochs=50)\n",
    "self_model.evaluate(stest_dataset)\n",
    "predictions=self_model.predict(stest_dataset)\n",
    "\n",
    "test_labels = []\n",
    "for features, labels in stest_dataset:\n",
    "    test_labels.append(labels.numpy())\n",
    "error=sum([abs((predictions[i]-test_labels[i])/test_labels[i])for i in range(len(predictions))])\n",
    "\n",
    "print(error)\n",
    "\n",
    "test_labels = np.concatenate(test_labels, axis=0)\n",
    "plt.scatter(test_labels, predictions, c='blue')\n",
    "plt.plot([min(test_labels), max(test_labels)], [min(test_labels), max(test_labels)], color='red', linestyle='--')  # Line for y=x\n",
    "plt.xlabel('True Labels')\n",
    "plt.ylabel('Predicted Labels')\n",
    "plt.title('True vs Predicted Labels')\n",
    "plt.show()\n",
    "plt.savefig('useless.png',dpi=300)"
   ]
  },
  {
   "cell_type": "code",
   "execution_count": null,
   "id": "7d8f8fea-1567-4cc8-84ec-3500415afb70",
   "metadata": {},
   "outputs": [],
   "source": []
  }
 ],
 "metadata": {
  "kernelspec": {
   "display_name": "Python 3 (ipykernel)",
   "language": "python",
   "name": "python3"
  },
  "language_info": {
   "codemirror_mode": {
    "name": "ipython",
    "version": 3
   },
   "file_extension": ".py",
   "mimetype": "text/x-python",
   "name": "python",
   "nbconvert_exporter": "python",
   "pygments_lexer": "ipython3",
   "version": "3.12.2"
  }
 },
 "nbformat": 4,
 "nbformat_minor": 5
}
