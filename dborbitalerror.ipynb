{
 "cells": [
  {
   "cell_type": "code",
   "execution_count": 1,
   "id": "2a85d449-a8c9-406b-9c10-29139a927c1f",
   "metadata": {},
   "outputs": [],
   "source": [
    "import pymolpro\n",
    "import random\n",
    "import numpy as np\n",
    "import pandas as pd\n",
    "import os\n",
    "import math\n",
    "def chkorbid(o1,o2):\n",
    "    if o1.startswith('-'):\n",
    "        chko1=o1[1:]\n",
    "    else:\n",
    "        chko1=o1\n",
    "    if o2.startswith('-'):\n",
    "        chko2=o2[1:]\n",
    "    else:\n",
    "        chko2=o2\n",
    "    if chko1==chko2:\n",
    "        return True\n",
    "    else: \n",
    "        return False\n",
    "\n",
    "def distances(o1,o2,a):\n",
    "    #the dictionary only contains +ve orbital IDs so remove\n",
    "    if o1.startswith('-'):\n",
    "        chko1=o1[1:]\n",
    "    else:\n",
    "        chko1=o1\n",
    "    if o2.startswith('-'):\n",
    "        chko2=o2[1:]\n",
    "    else:\n",
    "        chko2=o2\n",
    "    big_list=[]\n",
    "    for i in grid_dt[chko1]:\n",
    "        tmp_list=[]\n",
    "        for j in grid_dt[chko2]:\n",
    "            #find the distance\n",
    "            o1x,o1y,o1z = grid_dt[chko1][i]['x'], grid_dt[chko1][i]['y'],grid_dt[chko1][i]['z']\n",
    "            o2x,o2y,o2z = grid_dt[chko2][j]['x'], grid_dt[chko2][j]['y'],grid_dt[chko2][j]['z']\n",
    "            r=math.sqrt((o1x-o2x)**2+(o1y-o2y)**2+(o1z-o2z)**2)\n",
    "            #correlation energy should scale like r^-6 so take the reciprocal, going to lead to problems at 0 so take an error function\n",
    "            if r==0:\n",
    "                w=a\n",
    "            else:   \n",
    "                w=math.erf(a*r)/r\n",
    "            big_list.append(w)\n",
    "            if j==i:\n",
    "                break\n",
    "        #big_list.append(tmp_list)\n",
    "    return big_list\n",
    "\n",
    "def orbitalsize(orbital):\n",
    "    return math.sqrt(sum([orbital.local_second_moments[i][i] for i in range(3)]))\n",
    "\n",
    "def array_former(distance_list,features_list):\n",
    "    \n",
    "    zero_array=np.zeros((len(distance_list)-1,len(features_list)))\n",
    "    feature_array=np.array(features_list)\n",
    "    feature_array=np.reshape(feature_array,(1,len(features_list)))\n",
    "    ft=np.vstack((features_list,zero_array))\n",
    "    distance_array=np.array(distance_list)\n",
    "    distance_array=np.reshape(distance_array,(len(distance_list),1))\n",
    "    return np.hstack((distance_array,ft))\n",
    "    "
   ]
  },
  {
   "cell_type": "code",
   "execution_count": 2,
   "id": "78510909-2427-4a95-b134-b510c37df833",
   "metadata": {},
   "outputs": [],
   "source": [
    "database=pymolpro.database.run('Bak2000_atomisations','locali,pipek;mp2','aug-cc-pvtz',postamble='put,xml', backend='local')"
   ]
  },
  {
   "cell_type": "code",
   "execution_count": 3,
   "id": "4a19dbaf-5f64-4dab-b7ec-849735187efb",
   "metadata": {},
   "outputs": [
    {
     "ename": "Exception",
     "evalue": "something is wrong: there should be just one orbital set",
     "output_type": "error",
     "traceback": [
      "\u001b[0;31m---------------------------------------------------------------------------\u001b[0m",
      "\u001b[0;31mException\u001b[0m                                 Traceback (most recent call last)",
      "Cell \u001b[0;32mIn[3], line 10\u001b[0m\n\u001b[1;32m      8\u001b[0m \u001b[38;5;28;01mfor\u001b[39;00m k,v \u001b[38;5;129;01min\u001b[39;00m database\u001b[38;5;241m.\u001b[39mprojects\u001b[38;5;241m.\u001b[39mitems():\n\u001b[1;32m      9\u001b[0m     orbital_dt\u001b[38;5;241m=\u001b[39m{}\n\u001b[0;32m---> 10\u001b[0m     \u001b[38;5;28;01mfor\u001b[39;00m orb \u001b[38;5;129;01min\u001b[39;00m \u001b[43mv\u001b[49m\u001b[38;5;241;43m.\u001b[39;49m\u001b[43morbitals\u001b[49m\u001b[43m(\u001b[49m\u001b[43mminocc\u001b[49m\u001b[38;5;241;43m=\u001b[39;49m\u001b[38;5;241;43m1.00\u001b[39;49m\u001b[43m)\u001b[49m:\n\u001b[1;32m     11\u001b[0m         points\u001b[38;5;241m=\u001b[39morb\u001b[38;5;241m.\u001b[39mgrid(\u001b[38;5;241m4\u001b[39m)\n\u001b[1;32m     13\u001b[0m         values\u001b[38;5;241m=\u001b[39morb\u001b[38;5;241m.\u001b[39mevaluate(points)\n",
      "File \u001b[0;32m~/miniconda3/lib/python3.12/site-packages/pymolpro/project.py:353\u001b[0m, in \u001b[0;36mProject.orbitals\u001b[0;34m(self, instance, minocc, ID)\u001b[0m\n\u001b[1;32m    351\u001b[0m orbitalSets \u001b[38;5;241m=\u001b[39m \u001b[38;5;28mself\u001b[39m\u001b[38;5;241m.\u001b[39mxpath(\u001b[38;5;124m'\u001b[39m\u001b[38;5;124morbitals\u001b[39m\u001b[38;5;124m'\u001b[39m, molecule)\n\u001b[1;32m    352\u001b[0m \u001b[38;5;28;01mif\u001b[39;00m \u001b[38;5;28mlen\u001b[39m(orbitalSets) \u001b[38;5;241m!=\u001b[39m \u001b[38;5;241m1\u001b[39m:\n\u001b[0;32m--> 353\u001b[0m     \u001b[38;5;28;01mraise\u001b[39;00m \u001b[38;5;167;01mException\u001b[39;00m(\u001b[38;5;124m'\u001b[39m\u001b[38;5;124msomething is wrong: there should be just one orbital set\u001b[39m\u001b[38;5;124m'\u001b[39m)\n\u001b[1;32m    354\u001b[0m result \u001b[38;5;241m=\u001b[39m []\n\u001b[1;32m    355\u001b[0m search \u001b[38;5;241m=\u001b[39m \u001b[38;5;124m'\u001b[39m\u001b[38;5;124morbital\u001b[39m\u001b[38;5;124m'\u001b[39m\n",
      "\u001b[0;31mException\u001b[0m: something is wrong: there should be just one orbital set"
     ]
    }
   ],
   "source": [
    "#settings\n",
    "#grid dimensions\n",
    "n=4\n",
    "#alpha in the error function\n",
    "a=1\n",
    "\n",
    "q=0\n",
    "for k,v in database.projects.items():\n",
    "    orbital_dt={}\n",
    "    for orb in v.orbitals(minocc=1.00):\n",
    "        points=orb.grid(4)\n",
    "        \n",
    "        values=orb.evaluate(points)\n",
    "        grid_dt.update({orbital.ID:{i:{points[i][0],points[i][1],points[i][2],values[i]}}for i in range(len(points))})\n",
    "        orbital_dt.update({orbital.ID:{\n",
    "        'energy':p.xpath(\"//orbitals/orbital[@ID='\"+orbital.ID+\"']/@energy\"),\n",
    "        'size':orbitalsize(orbital)\n",
    "        }})\n",
    "        oid=f'-{orbital.ID}'\n",
    "        \n",
    "        orbital_dt.update({oid:{\n",
    "        'energy':p.xpath(\"//orbitals/orbital[@ID='\"+orbital.ID+\"']/@energy\"),\n",
    "        'size':orbitalsize(orbital)\n",
    "        }})\n",
    "\n",
    "print(grid_dt[0])\n"
   ]
  },
  {
   "cell_type": "code",
   "execution_count": null,
   "id": "d0ea3896-b4a0-4235-b08c-0fbaf8f02c92",
   "metadata": {},
   "outputs": [],
   "source": []
  }
 ],
 "metadata": {
  "kernelspec": {
   "display_name": "Python 3 (ipykernel)",
   "language": "python",
   "name": "python3"
  },
  "language_info": {
   "codemirror_mode": {
    "name": "ipython",
    "version": 3
   },
   "file_extension": ".py",
   "mimetype": "text/x-python",
   "name": "python",
   "nbconvert_exporter": "python",
   "pygments_lexer": "ipython3",
   "version": "3.12.2"
  }
 },
 "nbformat": 4,
 "nbformat_minor": 5
}
